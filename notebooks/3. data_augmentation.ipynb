{
 "cells": [
  {
   "cell_type": "code",
   "execution_count": 1,
   "metadata": {},
   "outputs": [
    {
     "name": "stderr",
     "output_type": "stream",
     "text": [
      "2023-08-03 16:50:25.707401: I tensorflow/core/platform/cpu_feature_guard.cc:182] This TensorFlow binary is optimized to use available CPU instructions in performance-critical operations.\n",
      "To enable the following instructions: AVX2 FMA, in other operations, rebuild TensorFlow with the appropriate compiler flags.\n",
      "2023-08-03 16:50:26.712543: W tensorflow/compiler/tf2tensorrt/utils/py_utils.cc:38] TF-TRT Warning: Could not find TensorRT\n"
     ]
    }
   ],
   "source": [
    "import tensorflow as tf\n",
    "import numpy as np\n",
    "import matplotlib.pyplot as plt\n",
    "import random\n",
    "import glob\n",
    "import tqdm\n",
    "import os\n",
    "from PIL import Image"
   ]
  },
  {
   "cell_type": "code",
   "execution_count": 2,
   "metadata": {},
   "outputs": [],
   "source": [
    "RANDOM_SEED = 0\n",
    "DATA_PATH = \"../data/derived_data/items_with_floor/\"\n",
    "OUTPUT_PATH = \"../data/derived_data/data_augmented/\"\n",
    "\n",
    "if not os.path.exists(OUTPUT_PATH):\n",
    "    os.makedirs(OUTPUT_PATH)"
   ]
  },
  {
   "cell_type": "code",
   "execution_count": 3,
   "metadata": {},
   "outputs": [],
   "source": [
    "def random_crop(image):\n",
    "    # Vertical and Horizontal coordinate of the top-left corner of the bounding box in image. \n",
    "    offset_height, offset_width = random.randint(0, image.shape[0]//2 - 100), random.randint(0, image.shape[1]//2 - 50)\n",
    "    # Height and Width of the bounding box. \n",
    "    target_height, target_width = random.randint(image.shape[0]//2.5, image.shape[0] - offset_height), random.randint(image.shape[1]//2.5, image.shape[1] - offset_width)\n",
    "\n",
    "    return tf.image.crop_to_bounding_box(image, offset_height, offset_width, target_height, target_width)\n",
    "\n",
    "operations = [\n",
    "    tf.keras.layers.RandomRotation(0.2, interpolation=\"nearest\", seed=None),\n",
    "    tf.keras.layers.RandomFlip(mode=\"horizontal_and_vertical\", seed=None),\n",
    "    random_crop,\n",
    "    tf.keras.layers.RandomHeight(0.25, interpolation='nearest', seed=None),\n",
    "    tf.keras.layers.RandomWidth(0.25, interpolation='nearest', seed=None),\n",
    "    tf.keras.layers.RandomContrast(0.25, seed=None),\n",
    "    tf.keras.layers.RandomBrightness(0.5, value_range=(50, 200), seed=None),\n",
    "    lambda image: tf.image.random_hue(image, 0.25, seed=None),\n",
    "    lambda image: tf.image.random_saturation(image, 0, 1, seed=None),\n",
    "]"
   ]
  },
  {
   "cell_type": "code",
   "execution_count": 4,
   "metadata": {},
   "outputs": [
    {
     "name": "stderr",
     "output_type": "stream",
     "text": [
      "2023-08-03 16:50:52.692779: I tensorflow/compiler/xla/stream_executor/cuda/cuda_gpu_executor.cc:981] could not open file to read NUMA node: /sys/bus/pci/devices/0000:01:00.0/numa_node\n",
      "Your kernel may have been built without NUMA support.\n",
      "2023-08-03 16:50:52.876070: I tensorflow/compiler/xla/stream_executor/cuda/cuda_gpu_executor.cc:981] could not open file to read NUMA node: /sys/bus/pci/devices/0000:01:00.0/numa_node\n",
      "Your kernel may have been built without NUMA support.\n",
      "2023-08-03 16:50:52.876113: I tensorflow/compiler/xla/stream_executor/cuda/cuda_gpu_executor.cc:981] could not open file to read NUMA node: /sys/bus/pci/devices/0000:01:00.0/numa_node\n",
      "Your kernel may have been built without NUMA support.\n",
      "2023-08-03 16:50:52.880760: I tensorflow/compiler/xla/stream_executor/cuda/cuda_gpu_executor.cc:981] could not open file to read NUMA node: /sys/bus/pci/devices/0000:01:00.0/numa_node\n",
      "Your kernel may have been built without NUMA support.\n",
      "2023-08-03 16:50:52.880839: I tensorflow/compiler/xla/stream_executor/cuda/cuda_gpu_executor.cc:981] could not open file to read NUMA node: /sys/bus/pci/devices/0000:01:00.0/numa_node\n",
      "Your kernel may have been built without NUMA support.\n",
      "2023-08-03 16:50:52.880863: I tensorflow/compiler/xla/stream_executor/cuda/cuda_gpu_executor.cc:981] could not open file to read NUMA node: /sys/bus/pci/devices/0000:01:00.0/numa_node\n",
      "Your kernel may have been built without NUMA support.\n",
      "2023-08-03 16:50:55.849478: I tensorflow/compiler/xla/stream_executor/cuda/cuda_gpu_executor.cc:981] could not open file to read NUMA node: /sys/bus/pci/devices/0000:01:00.0/numa_node\n",
      "Your kernel may have been built without NUMA support.\n",
      "2023-08-03 16:50:55.849676: I tensorflow/compiler/xla/stream_executor/cuda/cuda_gpu_executor.cc:981] could not open file to read NUMA node: /sys/bus/pci/devices/0000:01:00.0/numa_node\n",
      "Your kernel may have been built without NUMA support.\n",
      "2023-08-03 16:50:55.849688: I tensorflow/core/common_runtime/gpu/gpu_device.cc:1726] Could not identify NUMA node of platform GPU id 0, defaulting to 0.  Your kernel may not have been built with NUMA support.\n",
      "2023-08-03 16:50:55.849718: I tensorflow/compiler/xla/stream_executor/cuda/cuda_gpu_executor.cc:981] could not open file to read NUMA node: /sys/bus/pci/devices/0000:01:00.0/numa_node\n",
      "Your kernel may have been built without NUMA support.\n",
      "2023-08-03 16:50:55.850123: I tensorflow/core/common_runtime/gpu/gpu_device.cc:1639] Created device /job:localhost/replica:0/task:0/device:GPU:0 with 3916 MB memory:  -> device: 0, name: NVIDIA GeForce GTX 1660, pci bus id: 0000:01:00.0, compute capability: 7.5\n"
     ]
    }
   ],
   "source": [
    "N_RANDOM_OPERATIONS_COMBINATIONS = 100\n",
    "MAX_OPERATIONS_COMBINED = 4\n",
    "SAVE_IMAGE = True\n",
    "IMG_SIZE = 128\n",
    "\n",
    "resize_and_rescale = tf.keras.Sequential([\n",
    "  tf.keras.layers.Resizing(IMG_SIZE, IMG_SIZE, interpolation=\"nearest\"),\n",
    "  tf.keras.layers.Rescaling(1./255)\n",
    "])\n",
    "\n",
    "def no_agumentation(img_path):\n",
    "    img = Image.open(img_path)\n",
    "    img_arr = np.array(img)\n",
    "    img_filename = img_path.split(\"/\")[-1][:-4]\n",
    "    os.makedirs(f\"{OUTPUT_PATH}/{img_filename}\", exist_ok=True)\n",
    "    Image.fromarray(img_arr.astype(np.uint8), \"RGB\").save(f\"{OUTPUT_PATH}/{img_filename}/{img_filename}_{str(i)}.png\")\n",
    "\n",
    "def augment_image(img_path):\n",
    "    img = Image.open(img_path)\n",
    "    img_arr = np.array(img)\n",
    "\n",
    "    # without extension\n",
    "    img_filename = img_path.split(\"/\")[-1][:-4]\n",
    "\n",
    "    for i, op in enumerate(operations):\n",
    "        img_arr_augmented = op(img_arr)\n",
    "\n",
    "        if SAVE_IMAGE:\n",
    "            os.makedirs(f\"{OUTPUT_PATH}/{img_filename}\", exist_ok=True)\n",
    "            Image.fromarray(img_arr_augmented.numpy().astype(np.uint8), \"RGB\").save(f\"{OUTPUT_PATH}/{img_filename}/{img_filename}_{str(i)}.png\")\n",
    "\n",
    "        # img_arr_augmented = resize_and_rescale(img_arr_augmented)\n",
    "        # np.save(f\"{OUTPUT_PATH}/{img_filename}_{str(i)}\", img_arr_augmented.numpy().astype(np.float16))\n",
    "\n",
    "    random_ops_combs = [random.sample(operations, k=random.randint(1,MAX_OPERATIONS_COMBINED)) for _ in range(N_RANDOM_OPERATIONS_COMBINATIONS)]\n",
    "\n",
    "    for i, random_ops in enumerate(random_ops_combs, start=i+1):\n",
    "        img_arr_augmented = img_arr\n",
    "        for op in random_ops:\n",
    "            img_arr_augmented = op(img_arr_augmented)\n",
    "        \n",
    "        if SAVE_IMAGE:\n",
    "            os.makedirs(f\"{OUTPUT_PATH}/{img_filename}\", exist_ok=True)\n",
    "            Image.fromarray(img_arr_augmented.numpy().astype(np.uint8), \"RGB\").save(f\"{OUTPUT_PATH}/{img_filename}/{img_filename}_{str(i)}.png\")\n",
    "\n",
    "        # img_arr_augmented = resize_and_rescale(img_arr_augmented)\n",
    "        # np.save(f\"{OUTPUT_PATH}/{img_filename}_{str(i)}\", img_arr_augmented.numpy().astype(np.float16))"
   ]
  },
  {
   "cell_type": "code",
   "execution_count": 6,
   "metadata": {},
   "outputs": [
    {
     "name": "stderr",
     "output_type": "stream",
     "text": [
      "100%|██████████| 716/716 [20:05<00:00,  1.68s/it]\n"
     ]
    }
   ],
   "source": [
    "for img_path in tqdm.tqdm(glob.glob(DATA_PATH + \"*\")):\n",
    "    augment_image(img_path)\n",
    "    # no_agumentation(img_path)"
   ]
  },
  {
   "cell_type": "code",
   "execution_count": null,
   "metadata": {},
   "outputs": [],
   "source": []
  }
 ],
 "metadata": {
  "kernelspec": {
   "display_name": "Python 3.10.4 ('env': venv)",
   "language": "python",
   "name": "python3"
  },
  "language_info": {
   "codemirror_mode": {
    "name": "ipython",
    "version": 3
   },
   "file_extension": ".py",
   "mimetype": "text/x-python",
   "name": "python",
   "nbconvert_exporter": "python",
   "pygments_lexer": "ipython3",
   "version": "3.10.12"
  },
  "orig_nbformat": 4,
  "vscode": {
   "interpreter": {
    "hash": "565bbc61ce0d5c839d8e0766ab268faab42aa5ba816b678f8400e1030c0d2b12"
   }
  }
 },
 "nbformat": 4,
 "nbformat_minor": 2
}
