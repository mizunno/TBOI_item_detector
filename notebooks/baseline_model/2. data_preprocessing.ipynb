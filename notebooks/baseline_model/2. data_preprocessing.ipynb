{
 "cells": [
  {
   "cell_type": "code",
   "execution_count": 2,
   "metadata": {},
   "outputs": [],
   "source": [
    "import glob\n",
    "import matplotlib.image as mpimg\n",
    "import matplotlib.pyplot as plt\n",
    "import numpy as np\n",
    "import cv2\n",
    "import os\n",
    "from PIL import Image\n",
    "import typing"
   ]
  },
  {
   "cell_type": "code",
   "execution_count": 3,
   "metadata": {},
   "outputs": [],
   "source": [
    "ITEM_ALTARS_PATH = \"../../data/derived_data/item_altars/\"\n",
    "ITEMS_PATH = \"../../data/original_data/items/\"\n",
    "FLOORS_PATH = \"../../data/original_data/floors/\"\n",
    "\n",
    "OUTPUT_PATH = \"../../data/derived_data/items_with_floor/\"\n",
    "\n",
    "if not os.path.exists(OUTPUT_PATH):\n",
    "    os.makedirs(OUTPUT_PATH)"
   ]
  },
  {
   "cell_type": "code",
   "execution_count": 3,
   "metadata": {},
   "outputs": [],
   "source": [
    "def show_image(image: np.array):\n",
    "    plt.imshow(image)\n",
    "    plt.show()\n",
    "\n",
    "def load_image(image_path: str, mode=\"RGBA\", return_arr=True) -> np.array:\n",
    "    img = Image.open(image_path).convert(mode)\n",
    "\n",
    "    if return_arr:\n",
    "        return np.array(img)\n",
    "    \n",
    "    return img\n",
    "\n",
    "def resize_image(image: np.array, fx : int = 4, fy : int = 4):\n",
    "    # To maintain proportion with floors fx and fy must be set to 4\n",
    "    img_resized = cv2.resize(image, None, fx=fx, fy=fy, interpolation=cv2.INTER_NEAREST)\n",
    "\n",
    "    return img_resized\n",
    "\n",
    "def combine_item_with_altar(item: np.array, output_img_shape=None):\n",
    "    altar = load_image(f\"{ITEM_ALTARS_PATH}/item_altar_001.png\")\n",
    "\n",
    "    if not output_img_shape:\n",
    "        output_img_shape = (item.shape[0] + altar.shape[0], 32, 4)\n",
    "\n",
    "    img_combined = np.zeros(shape=output_img_shape)\n",
    "    img_combined[-23:, 2:29, :] = altar\n",
    "\n",
    "    img_combined[-output_img_shape[0]:-altar.shape[0], :, :] = item\n",
    "\n",
    "    return img_combined\n",
    "\n",
    "def combine_item_with_floor(item : np.array, floor_filename : str = \"01_basement.png\", pos : tuple[int, int] = (0,0)):\n",
    "    item = Image.fromarray(item, \"RGBA\")\n",
    "\n",
    "    floor = load_image(FLOORS_PATH + floor_filename)\n",
    "    floor = Image.fromarray(resize_image(floor[55:155, 55:150, :]).astype(np.uint8))\n",
    "\n",
    "    floor.paste(item, pos, item)\n",
    "\n",
    "    return floor.convert(\"RGB\")\n",
    "\n"
   ]
  },
  {
   "cell_type": "code",
   "execution_count": 40,
   "metadata": {},
   "outputs": [],
   "source": [
    "images = sorted(glob.glob(ITEMS_PATH + \"*\"))\n",
    "\n",
    "for item_num, img_path in enumerate(images):\n",
    "\n",
    "    item_name = img_path.split(\"/\")[-1][:-4]\n",
    "    item_name = item_name.lower()\n",
    "    item_name = item_name.replace(\" \", \"_\")\n",
    "    item_name = f\"{item_num}_{item_name}\"\n",
    "\n",
    "    if \"Seraphim\" in img_path:\n",
    "        item_arr = np.full((32,32,4), 255)\n",
    "        item_arr[:,:,-1] = 0\n",
    "        item_arr[4:-4, 1:-1, :] = load_image(img_path)\n",
    "    else:\n",
    "        item_arr = load_image(img_path)\n",
    "\n",
    "    item_w_altar = combine_item_with_altar(item_arr)\n",
    "    item_w_altar = resize_image(item_w_altar)\n",
    "    item_w_altar = item_w_altar.astype(np.uint8)\n",
    "\n",
    "    derived_img = combine_item_with_floor(item_w_altar, pos=(125,80))\n",
    "    derived_img.save(f\"{OUTPUT_PATH}/{item_name}.png\")"
   ]
  },
  {
   "cell_type": "code",
   "execution_count": null,
   "metadata": {},
   "outputs": [],
   "source": []
  }
 ],
 "metadata": {
  "interpreter": {
   "hash": "565bbc61ce0d5c839d8e0766ab268faab42aa5ba816b678f8400e1030c0d2b12"
  },
  "kernelspec": {
   "display_name": "Python 3.8.10 ('env': venv)",
   "language": "python",
   "name": "python3"
  },
  "language_info": {
   "codemirror_mode": {
    "name": "ipython",
    "version": 3
   },
   "file_extension": ".py",
   "mimetype": "text/x-python",
   "name": "python",
   "nbconvert_exporter": "python",
   "pygments_lexer": "ipython3",
   "version": "3.10.6"
  },
  "orig_nbformat": 4
 },
 "nbformat": 4,
 "nbformat_minor": 2
}
