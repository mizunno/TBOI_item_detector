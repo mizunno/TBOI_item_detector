{
 "cells": [
  {
   "cell_type": "code",
   "execution_count": 15,
   "metadata": {},
   "outputs": [],
   "source": [
    "import tensorflow as tf\n",
    "import numpy as np\n",
    "import matplotlib.pyplot as plt\n",
    "import random\n",
    "import glob\n",
    "import tqdm\n",
    "import os\n",
    "from PIL import Image"
   ]
  },
  {
   "cell_type": "code",
   "execution_count": 16,
   "metadata": {},
   "outputs": [],
   "source": [
    "RANDOM_SEED = 0\n",
    "DATA_PATH = \"../../data/derived_data/items_with_floor/\"\n",
    "OUTPUT_PATH = \"../../data/derived_data/data_augmented/\"\n",
    "\n",
    "if not os.path.exists(OUTPUT_PATH):\n",
    "    os.makedirs(OUTPUT_PATH)"
   ]
  },
  {
   "cell_type": "code",
   "execution_count": 17,
   "metadata": {},
   "outputs": [],
   "source": [
    "operations = [\n",
    "    tf.keras.layers.RandomRotation(0.5, interpolation=\"nearest\", seed=None),\n",
    "    tf.keras.layers.RandomFlip(mode=\"horizontal_and_vertical\", seed=None),\n",
    "    tf.keras.layers.RandomHeight(0.5, interpolation='nearest', seed=None),\n",
    "    tf.keras.layers.RandomWidth(0.5, interpolation='nearest', seed=None),\n",
    "    # tf.keras.layers.RandomCrop(300, 250, seed=None),\n",
    "    tf.keras.layers.RandomContrast(0.5, seed=None),\n",
    "    tf.keras.layers.RandomBrightness(0.5, value_range=(0, 255), seed=None)\n",
    "]"
   ]
  },
  {
   "cell_type": "code",
   "execution_count": 18,
   "metadata": {},
   "outputs": [],
   "source": [
    "N_RANDOM_OPERATIONS_COMBINATIONS = 10\n",
    "SAVE_IMAGE = True\n",
    "IMG_SIZE = 128\n",
    "\n",
    "resize_and_rescale = tf.keras.Sequential([\n",
    "  tf.keras.layers.Resizing(IMG_SIZE, IMG_SIZE, interpolation=\"nearest\"),\n",
    "  tf.keras.layers.Rescaling(1./255)\n",
    "])\n",
    "\n",
    "def augment_image(img_path):\n",
    "    img = Image.open(img_path)\n",
    "    img_arr = np.array(img)\n",
    "\n",
    "    # without extension\n",
    "    img_filename = img_path.split(\"/\")[-1][:-4]\n",
    "\n",
    "    for i, op in enumerate(operations):\n",
    "        img_arr_augmented = op(img_arr)\n",
    "\n",
    "        if SAVE_IMAGE:\n",
    "            os.makedirs(f\"{OUTPUT_PATH}/{img_filename}\", exist_ok=True)\n",
    "            Image.fromarray(img_arr_augmented.numpy().astype(np.uint8), \"RGB\").save(f\"{OUTPUT_PATH}/{img_filename}/{img_filename}_{str(i)}.png\")\n",
    "\n",
    "        # img_arr_augmented = resize_and_rescale(img_arr_augmented)\n",
    "        # np.save(f\"{OUTPUT_PATH}/{img_filename}_{str(i)}\", img_arr_augmented.numpy().astype(np.float16))\n",
    "\n",
    "    random_ops_combs = [random.sample(operations, k=random.randint(1,len(operations))) for _ in range(N_RANDOM_OPERATIONS_COMBINATIONS)]\n",
    "\n",
    "    for i, random_ops in enumerate(random_ops_combs, start=i+1):\n",
    "        img_arr_augmented = img_arr\n",
    "        for op in random_ops:\n",
    "            img_arr_augmented = op(img_arr_augmented)\n",
    "        \n",
    "        if SAVE_IMAGE:\n",
    "            os.makedirs(f\"{OUTPUT_PATH}/{img_filename}\", exist_ok=True)\n",
    "            Image.fromarray(img_arr_augmented.numpy().astype(np.uint8), \"RGB\").save(f\"{OUTPUT_PATH}/{img_filename}/{img_filename}_{str(i)}.png\")\n",
    "\n",
    "        # img_arr_augmented = resize_and_rescale(img_arr_augmented)\n",
    "        # np.save(f\"{OUTPUT_PATH}/{img_filename}_{str(i)}\", img_arr_augmented.numpy().astype(np.float16))"
   ]
  },
  {
   "cell_type": "code",
   "execution_count": 19,
   "metadata": {},
   "outputs": [
    {
     "name": "stderr",
     "output_type": "stream",
     "text": [
      "100%|██████████| 716/716 [02:21<00:00,  5.05it/s]\n"
     ]
    }
   ],
   "source": [
    "output = []\n",
    "for img_path in tqdm.tqdm(glob.glob(DATA_PATH + \"*\")):\n",
    "    augment_image(img_path)"
   ]
  },
  {
   "cell_type": "code",
   "execution_count": null,
   "metadata": {},
   "outputs": [],
   "source": []
  }
 ],
 "metadata": {
  "kernelspec": {
   "display_name": "Python 3.10.4 ('env': venv)",
   "language": "python",
   "name": "python3"
  },
  "language_info": {
   "codemirror_mode": {
    "name": "ipython",
    "version": 3
   },
   "file_extension": ".py",
   "mimetype": "text/x-python",
   "name": "python",
   "nbconvert_exporter": "python",
   "pygments_lexer": "ipython3",
   "version": "3.10.6"
  },
  "orig_nbformat": 4,
  "vscode": {
   "interpreter": {
    "hash": "565bbc61ce0d5c839d8e0766ab268faab42aa5ba816b678f8400e1030c0d2b12"
   }
  }
 },
 "nbformat": 4,
 "nbformat_minor": 2
}
