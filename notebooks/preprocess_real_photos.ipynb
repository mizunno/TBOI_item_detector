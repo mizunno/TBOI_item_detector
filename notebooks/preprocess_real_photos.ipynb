{
 "cells": [
  {
   "cell_type": "code",
   "execution_count": 1,
   "metadata": {},
   "outputs": [],
   "source": [
    "import os\n",
    "import glob\n",
    "import tqdm\n",
    "from PIL import Image"
   ]
  },
  {
   "cell_type": "code",
   "execution_count": 2,
   "metadata": {},
   "outputs": [],
   "source": [
    "DATA_PATH = \"../data\"\n",
    "REAL_DATA_PATH = \"/mnt/d/isaac/\"\n",
    "DERIVED_REAL_DATA_PATH = f\"{DATA_PATH}/real_photos\""
   ]
  },
  {
   "cell_type": "code",
   "execution_count": 3,
   "metadata": {},
   "outputs": [],
   "source": [
    "os.makedirs(DERIVED_REAL_DATA_PATH, exist_ok=True)"
   ]
  },
  {
   "cell_type": "code",
   "execution_count": 4,
   "metadata": {},
   "outputs": [],
   "source": [
    "# Create output directory with same structure as augmented data\n",
    "# One folder for every class\n",
    "\n",
    "image_folders = glob.glob(f\"{REAL_DATA_PATH}/*\")\n",
    "\n",
    "for image_folder in image_folders:\n",
    "    folder_name = image_folder.split(\"/\")[-1]\n",
    "\n",
    "    os.makedirs(f\"{DERIVED_REAL_DATA_PATH}/{folder_name}\", exist_ok=True)"
   ]
  },
  {
   "cell_type": "code",
   "execution_count": 6,
   "metadata": {},
   "outputs": [
    {
     "name": "stderr",
     "output_type": "stream",
     "text": [
      "100%|██████████| 897/897 [03:07<00:00,  4.77it/s]\n"
     ]
    }
   ],
   "source": [
    "RESIZE_FACTOR = 0.1\n",
    "\n",
    "for img_path in tqdm.tqdm(glob.glob(f\"{REAL_DATA_PATH}/*/*\")):\n",
    "    folder_name, img_name = img_path.split(\"/\")[-2:]\n",
    "    \n",
    "    img = Image.open(img_path)\n",
    "    \n",
    "    # Rotate the image. Note .rotate method is not used to avoid black stripes\n",
    "    img = img.transpose(Image.ROTATE_270)\n",
    "    \n",
    "    # Resize the image keeping the aspect ratio\n",
    "    width = int(img.size[0] * RESIZE_FACTOR)\n",
    "    height = int(img.size[1] * RESIZE_FACTOR)\n",
    "    \n",
    "    img = img.resize((width, height))\n",
    "    \n",
    "    output_paht = f\"{DERIVED_REAL_DATA_PATH}/{folder_name}/{img_name[:-4]}.png\"\n",
    "    img.save(output_paht)\n",
    "    "
   ]
  },
  {
   "cell_type": "code",
   "execution_count": null,
   "metadata": {},
   "outputs": [],
   "source": []
  }
 ],
 "metadata": {
  "kernelspec": {
   "display_name": "tf",
   "language": "python",
   "name": "python3"
  },
  "language_info": {
   "codemirror_mode": {
    "name": "ipython",
    "version": 3
   },
   "file_extension": ".py",
   "mimetype": "text/x-python",
   "name": "python",
   "nbconvert_exporter": "python",
   "pygments_lexer": "ipython3",
   "version": "3.10.12"
  },
  "orig_nbformat": 4
 },
 "nbformat": 4,
 "nbformat_minor": 2
}
