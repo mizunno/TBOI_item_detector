{
 "cells": [
  {
   "cell_type": "code",
   "execution_count": 3,
   "metadata": {},
   "outputs": [],
   "source": [
    "from PIL import Image\n",
    "import numpy as np\n",
    "import matplotlib.pyplot as plt\n",
    "import os\n",
    "import glob"
   ]
  },
  {
   "cell_type": "code",
   "execution_count": 24,
   "metadata": {},
   "outputs": [],
   "source": [
    "FLOOR_PATHS = \"../data/original_data/floors\"\n",
    "DERIVED_FLOOR_PATHS = \"../data/derived_data/floor_chops\"\n",
    "\n",
    "os.makedirs(DERIVED_FLOOR_PATHS, exist_ok=True)"
   ]
  },
  {
   "cell_type": "code",
   "execution_count": 26,
   "metadata": {},
   "outputs": [],
   "source": [
    "floors_filenames = [\n",
    "    \"0a_library.png\",\n",
    "    \"0b_shop.png\",\n",
    "    \"0b_ultragreedshop.png\",\n",
    "    \"0c_isaacsroom.png\",\n",
    "    \"0d_barrenroom.png\",\n",
    "    \"0e_arcade.png\",\n",
    "    \"0e_diceroom.png\",\n",
    "    \"0f_secretroom.png\",\n",
    "    \"01_basement.png\",\n",
    "    \"02_cellar.png\",\n",
    "    \"03_caves.png\",\n",
    "    \"04_catacombs.png\",\n",
    "    \"05_depths.png\",\n",
    "    \"06_necropolis.png\",\n",
    "    \"07_the womb.png\",\n",
    "    \"08_utero.png\",\n",
    "    \"09_sheol.png\",\n",
    "    \"10_cathedral.png\",\n",
    "    \"11_chest.png\",\n",
    "    \"12_darkroom.png\",\n",
    "    \"13_the burning basement.png\",\n",
    "    \"14_the drowned caves.png\",\n",
    "    \"15_the dank depths.png\",\n",
    "    \"16_the scarred womb.png\",\n",
    "    \"17_blue secret.png\",\n",
    "    \"18_blue womb.png\",\n",
    "]\n",
    "\n",
    "# TODO: add effects"
   ]
  },
  {
   "cell_type": "code",
   "execution_count": 37,
   "metadata": {},
   "outputs": [],
   "source": [
    "# width of the chop\n",
    "w = 234\n",
    "\n",
    "# height of the chop\n",
    "h = 156\n",
    "\n",
    "for floor_filename in floors_filenames:\n",
    "    img = Image.open(f\"{FLOOR_PATHS}/{floor_filename}\").convert(\"RGBA\")\n",
    "    img_arr = np.array(img)\n",
    "    \n",
    "    # remove extension\n",
    "    floor_name = floor_filename[:-4]\n",
    "    \n",
    "    # index for the output filename\n",
    "    j = 0\n",
    "    \n",
    "    for i in range(3):\n",
    "        chop = img_arr[(h*i):(h*(i+1)),:w,:]\n",
    "        \n",
    "        # there are some empty chops, so we skip them\n",
    "        if list(chop[0,0,:]) == [0,0,0,255]:\n",
    "            Image.fromarray(chop.astype(np.uint8)).save(f\"{DERIVED_FLOOR_PATHS}/{floor_name}_{j}.png\")\n",
    "            j+=1\n",
    "            \n",
    "        chop = img_arr[(h*i):(h*(i+1)),w:2*w,:]\n",
    "        \n",
    "        # there are some empty chops, so we skip them\n",
    "        if list(chop[0,0,:]) == [0,0,0,255]:\n",
    "            Image.fromarray(chop.astype(np.uint8)).save(f\"{DERIVED_FLOOR_PATHS}/{floor_name}_{j}.png\")\n",
    "            j+=1"
   ]
  },
  {
   "cell_type": "code",
   "execution_count": 35,
   "metadata": {},
   "outputs": [
    {
     "data": {
      "text/plain": [
       "False"
      ]
     },
     "execution_count": 35,
     "metadata": {},
     "output_type": "execute_result"
    }
   ],
   "source": []
  },
  {
   "cell_type": "code",
   "execution_count": null,
   "metadata": {},
   "outputs": [],
   "source": []
  },
  {
   "cell_type": "code",
   "execution_count": null,
   "metadata": {},
   "outputs": [],
   "source": []
  }
 ],
 "metadata": {
  "kernelspec": {
   "display_name": "tf",
   "language": "python",
   "name": "python3"
  },
  "language_info": {
   "codemirror_mode": {
    "name": "ipython",
    "version": 3
   },
   "file_extension": ".py",
   "mimetype": "text/x-python",
   "name": "python",
   "nbconvert_exporter": "python",
   "pygments_lexer": "ipython3",
   "version": "3.10.12"
  },
  "orig_nbformat": 4
 },
 "nbformat": 4,
 "nbformat_minor": 2
}
