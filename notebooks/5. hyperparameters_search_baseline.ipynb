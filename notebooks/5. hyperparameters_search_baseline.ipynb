{
 "cells": [
  {
   "cell_type": "code",
   "execution_count": 1,
   "metadata": {},
   "outputs": [
    {
     "name": "stderr",
     "output_type": "stream",
     "text": [
      "2023-08-03 20:30:46.662808: I tensorflow/core/platform/cpu_feature_guard.cc:182] This TensorFlow binary is optimized to use available CPU instructions in performance-critical operations.\n",
      "To enable the following instructions: AVX2 FMA, in other operations, rebuild TensorFlow with the appropriate compiler flags.\n",
      "2023-08-03 20:30:47.788221: W tensorflow/compiler/tf2tensorrt/utils/py_utils.cc:38] TF-TRT Warning: Could not find TensorRT\n"
     ]
    }
   ],
   "source": [
    "import tensorflow as tf\n",
    "from tensorflow.keras.layers import (\n",
    "    Rescaling,\n",
    "    Conv2D,\n",
    "    MaxPooling2D,\n",
    "    AveragePooling2D,\n",
    "    Flatten,\n",
    "    Dense,\n",
    "    Input,\n",
    "    BatchNormalization,\n",
    ")\n",
    "from tensorflow.keras import Model\n",
    "import numpy as np\n",
    "import tqdm\n",
    "import itertools\n",
    "import random\n",
    "import uuid\n",
    "import json\n",
    "import os"
   ]
  },
  {
   "cell_type": "code",
   "execution_count": 2,
   "metadata": {},
   "outputs": [
    {
     "name": "stderr",
     "output_type": "stream",
     "text": [
      "2023-08-03 20:30:49.105563: I tensorflow/compiler/xla/stream_executor/cuda/cuda_gpu_executor.cc:981] could not open file to read NUMA node: /sys/bus/pci/devices/0000:01:00.0/numa_node\n",
      "Your kernel may have been built without NUMA support.\n",
      "2023-08-03 20:30:49.238669: I tensorflow/compiler/xla/stream_executor/cuda/cuda_gpu_executor.cc:981] could not open file to read NUMA node: /sys/bus/pci/devices/0000:01:00.0/numa_node\n",
      "Your kernel may have been built without NUMA support.\n",
      "2023-08-03 20:30:49.238711: I tensorflow/compiler/xla/stream_executor/cuda/cuda_gpu_executor.cc:981] could not open file to read NUMA node: /sys/bus/pci/devices/0000:01:00.0/numa_node\n",
      "Your kernel may have been built without NUMA support.\n"
     ]
    },
    {
     "data": {
      "text/plain": [
       "[PhysicalDevice(name='/physical_device:GPU:0', device_type='GPU')]"
      ]
     },
     "execution_count": 2,
     "metadata": {},
     "output_type": "execute_result"
    }
   ],
   "source": [
    "# Check if GPU available\n",
    "tf.config.list_physical_devices('GPU')"
   ]
  },
  {
   "cell_type": "code",
   "execution_count": 3,
   "metadata": {},
   "outputs": [],
   "source": [
    "BATCH_SIZE = 32\n",
    "IMG_HEIGHT = 128\n",
    "IMG_WIDTH = 128\n",
    "NUM_CLASSES = 716\n",
    "RANDOM_SEED = 0\n",
    "\n",
    "DATA_PATH = \"../data/derived_data/data_augmented/\"\n",
    "RESULTS_PATH = \"./hps_search_results/\""
   ]
  },
  {
   "cell_type": "code",
   "execution_count": 4,
   "metadata": {},
   "outputs": [],
   "source": [
    "def set_random_seed(seed):\n",
    "    random.seed(seed)\n",
    "    tf.random.set_seed(seed)\n",
    "    np.random.seed(seed)\n",
    "    \n",
    "set_random_seed(RANDOM_SEED)"
   ]
  },
  {
   "cell_type": "code",
   "execution_count": 5,
   "metadata": {},
   "outputs": [],
   "source": [
    "hps_grid = dict(\n",
    "    conv2d_1_filters = [16, 32, 64],\n",
    "    conv2d_1_kernel = [3, 5],\n",
    "    conv2d_2_filters = [32, 64, 128],\n",
    "    conv2d_2_kernel = [3, 5],\n",
    "    conv2d_3_filters = [64, 128, 256],\n",
    "    conv2d_3_kernel = [3,5],\n",
    "    dense_1_units = [128, 256, 512, 1024],\n",
    "    pooling = [\n",
    "        MaxPooling2D,\n",
    "        AveragePooling2D,\n",
    "    ],\n",
    "    batch_normalization = [False, True],\n",
    "    optimizer = [\n",
    "        tf.keras.optimizers.Adam,\n",
    "        tf.keras.optimizers.RMSprop,\n",
    "    ],\n",
    "    learning_rate = [0.001, 0.005]\n",
    ")"
   ]
  },
  {
   "cell_type": "code",
   "execution_count": 6,
   "metadata": {},
   "outputs": [],
   "source": [
    "params = list(itertools.product(*hps_grid.values()))\n",
    "hps_combs = [dict(zip(hps_grid.keys(),params_sample)) for params_sample in params]"
   ]
  },
  {
   "cell_type": "code",
   "execution_count": 7,
   "metadata": {},
   "outputs": [
    {
     "name": "stderr",
     "output_type": "stream",
     "text": [
      "100%|██████████| 13824/13824 [00:00<00:00, 2789208.12it/s]\n"
     ]
    }
   ],
   "source": [
    "filtered_combs = []\n",
    "for comb in tqdm.tqdm(hps_combs):\n",
    "    if comb[\"conv2d_1_filters\"] <= comb[\"conv2d_2_filters\"] and comb[\"conv2d_2_filters\"] <= comb[\"conv2d_3_filters\"]:\n",
    "        filtered_combs.append(comb)"
   ]
  },
  {
   "cell_type": "code",
   "execution_count": 8,
   "metadata": {},
   "outputs": [
    {
     "data": {
      "text/plain": [
       "10752"
      ]
     },
     "execution_count": 8,
     "metadata": {},
     "output_type": "execute_result"
    }
   ],
   "source": [
    "hps_combs = filtered_combs\n",
    "len(hps_combs)"
   ]
  },
  {
   "cell_type": "code",
   "execution_count": 9,
   "metadata": {},
   "outputs": [],
   "source": [
    "random.shuffle(hps_combs)"
   ]
  },
  {
   "cell_type": "code",
   "execution_count": 10,
   "metadata": {},
   "outputs": [],
   "source": [
    "def define_model(hps_comb):\n",
    "    \n",
    "    inputs = Input(shape=(IMG_HEIGHT, IMG_WIDTH, 3))\n",
    "    x = Rescaling(1./255, input_shape=(IMG_HEIGHT, IMG_WIDTH, 3))(inputs)\n",
    "    \n",
    "    x = Conv2D(hps_comb['conv2d_1_filters'], hps_comb['conv2d_1_kernel'], padding='same', activation='relu')(x)\n",
    "    x = hps_comb[\"pooling\"]()(x)\n",
    "    \n",
    "    if hps_comb[\"batch_normalization\"]:\n",
    "        x = BatchNormalization()(x)\n",
    "        \n",
    "    x = Conv2D(hps_comb['conv2d_2_filters'], hps_comb['conv2d_2_kernel'], padding='same', activation='relu')(x)\n",
    "    x = hps_comb[\"pooling\"]()(x)\n",
    "    \n",
    "    if hps_comb[\"batch_normalization\"]:\n",
    "        x = BatchNormalization()(x)\n",
    "        \n",
    "    x = Conv2D(hps_comb['conv2d_3_filters'], hps_comb['conv2d_3_kernel'], padding='same', activation='relu')(x)\n",
    "    x = hps_comb[\"pooling\"]()(x)\n",
    "    \n",
    "    if hps_comb[\"batch_normalization\"]:\n",
    "        x = BatchNormalization()(x)\n",
    "        \n",
    "    x = Flatten()(x)\n",
    "    x = Dense(hps_comb['dense_1_units'], activation='relu')(x)\n",
    "    outputs = Dense(NUM_CLASSES)(x)\n",
    "    \n",
    "    model = Model(inputs=inputs, outputs=outputs, name=\"\")\n",
    "\n",
    "    model.compile(\n",
    "        optimizer=hps_comb['optimizer'](learning_rate=hps_comb['learning_rate']),\n",
    "        loss=tf.keras.losses.SparseCategoricalCrossentropy(from_logits=True),\n",
    "        metrics=['accuracy'],\n",
    "    )\n",
    "\n",
    "    return model\n",
    "\n",
    "\n",
    "def train_model(\n",
    "        model,\n",
    "        train_ds,\n",
    "        val_ds,\n",
    "        test_ds,\n",
    "        checkpoint_filepath=None, \n",
    "        epochs=5\n",
    "    ):\n",
    "\n",
    "    # Define callbacks\n",
    "    # early_stopping = tf.keras.callbacks.EarlyStopping(\n",
    "    #     monitor='val_loss',\n",
    "    #     patience=5,\n",
    "    #     restore_best_weights=True,\n",
    "    # )\n",
    "\n",
    "    \n",
    "    # model_checkpoint = tf.keras.callbacks.ModelCheckpoint(\n",
    "    #     filepath=checkpoint_filepath,\n",
    "    #     save_weights_only=True,\n",
    "    #     monitor='val_accuracy',\n",
    "    #     save_best_only=True\n",
    "    # )\n",
    "    \n",
    "    # Set the same RANDOM_SEED for every model\n",
    "    set_random_seed(RANDOM_SEED)\n",
    "    \n",
    "    # Train model\n",
    "    history = model.fit(\n",
    "        train_ds,\n",
    "        validation_data=val_ds,\n",
    "        epochs=epochs,\n",
    "        callbacks=[\n",
    "            # early_stopping,\n",
    "            # model_checkpoint,\n",
    "        ],\n",
    "        verbose='auto',\n",
    "    )\n",
    "    \n",
    "    results = history.history\n",
    "\n",
    "    test_loss, test_acc = model.evaluate(test_ds)\n",
    "\n",
    "    results['test_loss'] = test_loss\n",
    "    results['test_acc'] = test_acc\n",
    "    \n",
    "    return results\n",
    "\n",
    "\n",
    "def run_hps_search(train_ds, val_ds, test_ds, output_path):\n",
    "    hps_search_id = uuid.uuid4()\n",
    "\n",
    "    output_path = f'{output_path}/{hps_search_id}/'\n",
    "    os.makedirs(output_path, exist_ok=True)\n",
    "\n",
    "    for hps_comb in tqdm.tqdm(hps_combs):\n",
    "        print(hps_comb)\n",
    "        hps_comb_id = uuid.uuid4()\n",
    "\n",
    "        model = define_model(hps_comb)\n",
    "\n",
    "        results = train_model(\n",
    "            model, \n",
    "            train_ds=train_ds,\n",
    "            val_ds=val_ds,\n",
    "            test_ds=test_ds,\n",
    "        )\n",
    "\n",
    "        for k,v in hps_comb.items():\n",
    "            results[k] = str(v)\n",
    "\n",
    "        with open(f'{output_path}/{hps_comb_id}.json', 'w') as f:\n",
    "            json.dump(results, f)\n"
   ]
  },
  {
   "cell_type": "code",
   "execution_count": 11,
   "metadata": {},
   "outputs": [
    {
     "name": "stdout",
     "output_type": "stream",
     "text": [
      "Found 78044 files belonging to 716 classes.\n",
      "Using 54631 files for training.\n"
     ]
    },
    {
     "name": "stderr",
     "output_type": "stream",
     "text": [
      "2023-08-03 20:31:39.704528: I tensorflow/compiler/xla/stream_executor/cuda/cuda_gpu_executor.cc:981] could not open file to read NUMA node: /sys/bus/pci/devices/0000:01:00.0/numa_node\n",
      "Your kernel may have been built without NUMA support.\n",
      "2023-08-03 20:31:39.704610: I tensorflow/compiler/xla/stream_executor/cuda/cuda_gpu_executor.cc:981] could not open file to read NUMA node: /sys/bus/pci/devices/0000:01:00.0/numa_node\n",
      "Your kernel may have been built without NUMA support.\n",
      "2023-08-03 20:31:39.704635: I tensorflow/compiler/xla/stream_executor/cuda/cuda_gpu_executor.cc:981] could not open file to read NUMA node: /sys/bus/pci/devices/0000:01:00.0/numa_node\n",
      "Your kernel may have been built without NUMA support.\n",
      "2023-08-03 20:31:40.715945: I tensorflow/compiler/xla/stream_executor/cuda/cuda_gpu_executor.cc:981] could not open file to read NUMA node: /sys/bus/pci/devices/0000:01:00.0/numa_node\n",
      "Your kernel may have been built without NUMA support.\n",
      "2023-08-03 20:31:40.715996: I tensorflow/compiler/xla/stream_executor/cuda/cuda_gpu_executor.cc:981] could not open file to read NUMA node: /sys/bus/pci/devices/0000:01:00.0/numa_node\n",
      "Your kernel may have been built without NUMA support.\n",
      "2023-08-03 20:31:40.716003: I tensorflow/core/common_runtime/gpu/gpu_device.cc:1726] Could not identify NUMA node of platform GPU id 0, defaulting to 0.  Your kernel may not have been built with NUMA support.\n",
      "2023-08-03 20:31:40.716026: I tensorflow/compiler/xla/stream_executor/cuda/cuda_gpu_executor.cc:981] could not open file to read NUMA node: /sys/bus/pci/devices/0000:01:00.0/numa_node\n",
      "Your kernel may have been built without NUMA support.\n",
      "2023-08-03 20:31:40.716348: I tensorflow/core/common_runtime/gpu/gpu_device.cc:1639] Created device /job:localhost/replica:0/task:0/device:GPU:0 with 3916 MB memory:  -> device: 0, name: NVIDIA GeForce GTX 1660, pci bus id: 0000:01:00.0, compute capability: 7.5\n"
     ]
    },
    {
     "name": "stdout",
     "output_type": "stream",
     "text": [
      "Found 78044 files belonging to 716 classes.\n",
      "Using 23413 files for validation.\n"
     ]
    }
   ],
   "source": [
    "train_ds = tf.keras.utils.image_dataset_from_directory(\n",
    "    DATA_PATH,\n",
    "    labels=\"inferred\",\n",
    "    label_mode='int',\n",
    "    class_names=None,\n",
    "    color_mode='rgb',\n",
    "    batch_size=32,\n",
    "    validation_split=0.3,\n",
    "    subset=\"training\",\n",
    "    image_size=(IMG_WIDTH, IMG_HEIGHT),\n",
    "    shuffle=True,\n",
    "    seed=RANDOM_SEED,\n",
    "    interpolation='nearest'\n",
    ")\n",
    "\n",
    "val_ds = tf.keras.utils.image_dataset_from_directory(\n",
    "    DATA_PATH,\n",
    "    labels=\"inferred\",\n",
    "    label_mode='int',\n",
    "    class_names=None,\n",
    "    color_mode='rgb',\n",
    "    batch_size=32,\n",
    "    validation_split=0.3,\n",
    "    subset=\"validation\",\n",
    "    image_size=(IMG_WIDTH, IMG_HEIGHT),\n",
    "    shuffle=True,\n",
    "    seed=RANDOM_SEED,\n",
    "    interpolation='nearest'\n",
    ")\n",
    "\n",
    "val_batches = tf.data.experimental.cardinality(val_ds)\n",
    "test_ds = val_ds.take(val_batches // 2)\n",
    "val_ds = val_ds.skip(val_batches // 2)\n",
    "\n",
    "AUTOTUNE = tf.data.AUTOTUNE\n",
    "\n",
    "train_ds = train_ds.cache().shuffle(100).prefetch(buffer_size=AUTOTUNE)\n",
    "val_ds = val_ds.cache().prefetch(buffer_size=AUTOTUNE)"
   ]
  },
  {
   "cell_type": "code",
   "execution_count": 12,
   "metadata": {},
   "outputs": [
    {
     "name": "stderr",
     "output_type": "stream",
     "text": [
      "  0%|          | 0/10752 [00:00<?, ?it/s]"
     ]
    },
    {
     "name": "stdout",
     "output_type": "stream",
     "text": [
      "{'conv2d_1_filters': 16, 'conv2d_1_kernel': 5, 'conv2d_2_filters': 128, 'conv2d_2_kernel': 3, 'conv2d_3_filters': 128, 'conv2d_3_kernel': 5, 'dense_1_units': 1024, 'pooling': <class 'keras.src.layers.pooling.max_pooling2d.MaxPooling2D'>, 'batch_normalization': False, 'optimizer': <class 'keras.src.optimizers.adam.Adam'>, 'learning_rate': 0.005}\n",
      "Epoch 1/5\n"
     ]
    },
    {
     "name": "stderr",
     "output_type": "stream",
     "text": [
      "2023-08-03 20:31:50.090911: I tensorflow/compiler/xla/stream_executor/cuda/cuda_dnn.cc:432] Loaded cuDNN version 8600\n",
      "2023-08-03 20:31:50.717028: I tensorflow/tsl/platform/default/subprocess.cc:304] Start cannot spawn child process: No such file or directory\n",
      "2023-08-03 20:31:51.376530: I tensorflow/compiler/xla/service/service.cc:168] XLA service 0x31e31330 initialized for platform CUDA (this does not guarantee that XLA will be used). Devices:\n",
      "2023-08-03 20:31:51.376570: I tensorflow/compiler/xla/service/service.cc:176]   StreamExecutor device (0): NVIDIA GeForce GTX 1660, Compute Capability 7.5\n",
      "2023-08-03 20:31:51.386480: I tensorflow/compiler/mlir/tensorflow/utils/dump_mlir_util.cc:255] disabling MLIR crash reproducer, set env var `MLIR_CRASH_REPRODUCER_DIRECTORY` to enable.\n",
      "2023-08-03 20:31:51.514316: I tensorflow/tsl/platform/default/subprocess.cc:304] Start cannot spawn child process: No such file or directory\n",
      "2023-08-03 20:31:51.563560: I ./tensorflow/compiler/jit/device_compiler.h:186] Compiled cluster using XLA!  This line is logged at most once for the lifetime of the process.\n"
     ]
    },
    {
     "name": "stdout",
     "output_type": "stream",
     "text": [
      "1708/1708 [==============================] - 75s 41ms/step - loss: 6.6303 - accuracy: 0.0012 - val_loss: 6.5846 - val_accuracy: 5.1278e-04\n",
      "Epoch 2/5\n",
      "1708/1708 [==============================] - 67s 39ms/step - loss: 6.5814 - accuracy: 0.0011 - val_loss: 6.5864 - val_accuracy: 5.1278e-04\n",
      "Epoch 3/5\n",
      "1708/1708 [==============================] - 66s 39ms/step - loss: 6.5817 - accuracy: 0.0012 - val_loss: 6.5869 - val_accuracy: 5.1278e-04\n",
      "Epoch 4/5\n",
      "1708/1708 [==============================] - 66s 39ms/step - loss: 6.5817 - accuracy: 9.1523e-04 - val_loss: 6.5867 - val_accuracy: 5.1278e-04\n",
      "Epoch 5/5\n",
      "1708/1708 [==============================] - 66s 39ms/step - loss: 6.5817 - accuracy: 0.0012 - val_loss: 6.5866 - val_accuracy: 5.1278e-04\n",
      "366/366 [==============================] - 4s 9ms/step - loss: 6.5872 - accuracy: 6.8306e-04\n"
     ]
    },
    {
     "name": "stderr",
     "output_type": "stream",
     "text": [
      "  0%|          | 1/10752 [05:43<1025:17:02, 343.32s/it]"
     ]
    },
    {
     "name": "stdout",
     "output_type": "stream",
     "text": [
      "{'conv2d_1_filters': 32, 'conv2d_1_kernel': 5, 'conv2d_2_filters': 32, 'conv2d_2_kernel': 3, 'conv2d_3_filters': 256, 'conv2d_3_kernel': 5, 'dense_1_units': 512, 'pooling': <class 'keras.src.layers.pooling.max_pooling2d.MaxPooling2D'>, 'batch_normalization': True, 'optimizer': <class 'keras.src.optimizers.adam.Adam'>, 'learning_rate': 0.001}\n",
      "Epoch 1/5\n",
      "1708/1708 [==============================] - 64s 36ms/step - loss: 6.7007 - accuracy: 0.0013 - val_loss: 6.5768 - val_accuracy: 5.1278e-04\n",
      "Epoch 2/5\n",
      "1708/1708 [==============================] - 60s 35ms/step - loss: 6.5747 - accuracy: 0.0016 - val_loss: 6.5791 - val_accuracy: 5.1278e-04\n",
      "Epoch 3/5\n",
      "1708/1708 [==============================] - 60s 35ms/step - loss: 6.5743 - accuracy: 0.0015 - val_loss: 6.5808 - val_accuracy: 5.1278e-04\n",
      "Epoch 4/5\n",
      "1708/1708 [==============================] - 60s 35ms/step - loss: 6.5741 - accuracy: 0.0016 - val_loss: 6.5821 - val_accuracy: 5.1278e-04\n",
      "Epoch 5/5\n",
      "1708/1708 [==============================] - 60s 35ms/step - loss: 6.5740 - accuracy: 0.0016 - val_loss: 6.5829 - val_accuracy: 5.1278e-04\n",
      "366/366 [==============================] - 3s 9ms/step - loss: 6.5832 - accuracy: 7.6844e-04\n"
     ]
    },
    {
     "name": "stderr",
     "output_type": "stream",
     "text": [
      "  0%|          | 2/10752 [10:50<962:23:43, 322.29s/it] "
     ]
    },
    {
     "name": "stdout",
     "output_type": "stream",
     "text": [
      "{'conv2d_1_filters': 32, 'conv2d_1_kernel': 3, 'conv2d_2_filters': 64, 'conv2d_2_kernel': 5, 'conv2d_3_filters': 128, 'conv2d_3_kernel': 3, 'dense_1_units': 256, 'pooling': <class 'keras.src.layers.pooling.average_pooling2d.AveragePooling2D'>, 'batch_normalization': False, 'optimizer': <class 'keras.src.optimizers.adam.Adam'>, 'learning_rate': 0.001}\n",
      "Epoch 1/5\n",
      "1708/1708 [==============================] - 49s 28ms/step - loss: 4.9687 - accuracy: 0.1343 - val_loss: 3.0080 - val_accuracy: 0.4014\n",
      "Epoch 2/5\n",
      "1708/1708 [==============================] - 47s 27ms/step - loss: 2.2703 - accuracy: 0.5291 - val_loss: 2.0678 - val_accuracy: 0.5802\n",
      "Epoch 3/5\n",
      "1708/1708 [==============================] - 47s 27ms/step - loss: 1.4520 - accuracy: 0.6734 - val_loss: 1.8318 - val_accuracy: 0.6454\n",
      "Epoch 4/5\n",
      "1708/1708 [==============================] - 46s 27ms/step - loss: 0.9877 - accuracy: 0.7636 - val_loss: 1.8510 - val_accuracy: 0.6688\n",
      "Epoch 5/5\n",
      "1708/1708 [==============================] - 47s 27ms/step - loss: 0.6698 - accuracy: 0.8284 - val_loss: 2.0067 - val_accuracy: 0.6858\n",
      "366/366 [==============================] - 3s 9ms/step - loss: 2.0177 - accuracy: 0.6774\n"
     ]
    },
    {
     "name": "stderr",
     "output_type": "stream",
     "text": [
      "  0%|          | 3/10752 [14:49<848:50:46, 284.29s/it]"
     ]
    },
    {
     "name": "stdout",
     "output_type": "stream",
     "text": [
      "{'conv2d_1_filters': 16, 'conv2d_1_kernel': 3, 'conv2d_2_filters': 128, 'conv2d_2_kernel': 5, 'conv2d_3_filters': 256, 'conv2d_3_kernel': 3, 'dense_1_units': 512, 'pooling': <class 'keras.src.layers.pooling.average_pooling2d.AveragePooling2D'>, 'batch_normalization': False, 'optimizer': <class 'keras.src.optimizers.adam.Adam'>, 'learning_rate': 0.001}\n",
      "Epoch 1/5\n",
      "1708/1708 [==============================] - 75s 43ms/step - loss: 5.1474 - accuracy: 0.1276 - val_loss: 3.1923 - val_accuracy: 0.3905\n",
      "Epoch 2/5\n",
      "1708/1708 [==============================] - 72s 42ms/step - loss: 2.3134 - accuracy: 0.5332 - val_loss: 2.1209 - val_accuracy: 0.5723\n",
      "Epoch 3/5\n",
      "1708/1708 [==============================] - 72s 42ms/step - loss: 1.4449 - accuracy: 0.6763 - val_loss: 1.8835 - val_accuracy: 0.6433\n",
      "Epoch 4/5\n",
      "1708/1708 [==============================] - 72s 42ms/step - loss: 0.9531 - accuracy: 0.7702 - val_loss: 2.0549 - val_accuracy: 0.6644\n",
      "Epoch 5/5\n",
      "1708/1708 [==============================] - 72s 42ms/step - loss: 0.6260 - accuracy: 0.8415 - val_loss: 2.1905 - val_accuracy: 0.6756\n",
      "366/366 [==============================] - 4s 12ms/step - loss: 2.2086 - accuracy: 0.6790\n"
     ]
    },
    {
     "name": "stderr",
     "output_type": "stream",
     "text": [
      "  0%|          | 4/10752 [20:57<947:05:27, 317.22s/it]"
     ]
    },
    {
     "name": "stdout",
     "output_type": "stream",
     "text": [
      "{'conv2d_1_filters': 32, 'conv2d_1_kernel': 3, 'conv2d_2_filters': 128, 'conv2d_2_kernel': 3, 'conv2d_3_filters': 256, 'conv2d_3_kernel': 3, 'dense_1_units': 128, 'pooling': <class 'keras.src.layers.pooling.average_pooling2d.AveragePooling2D'>, 'batch_normalization': False, 'optimizer': <class 'keras.src.optimizers.adam.Adam'>, 'learning_rate': 0.005}\n",
      "Epoch 1/5\n",
      "1708/1708 [==============================] - 59s 34ms/step - loss: 6.5841 - accuracy: 0.0012 - val_loss: 6.5843 - val_accuracy: 5.1278e-04\n",
      "Epoch 2/5\n",
      "1708/1708 [==============================] - 57s 34ms/step - loss: 6.5814 - accuracy: 0.0012 - val_loss: 6.5863 - val_accuracy: 5.1278e-04\n",
      "Epoch 3/5\n",
      "1708/1708 [==============================] - 57s 34ms/step - loss: 6.5817 - accuracy: 0.0011 - val_loss: 6.5867 - val_accuracy: 5.1278e-04\n",
      "Epoch 4/5\n",
      "1708/1708 [==============================] - 57s 34ms/step - loss: 6.5817 - accuracy: 0.0012 - val_loss: 6.5869 - val_accuracy: 5.1278e-04\n",
      "Epoch 5/5\n",
      "1708/1708 [==============================] - 57s 34ms/step - loss: 6.5817 - accuracy: 0.0011 - val_loss: 6.5869 - val_accuracy: 5.1278e-04\n",
      "366/366 [==============================] - 4s 11ms/step - loss: 6.5871 - accuracy: 7.6844e-04\n"
     ]
    },
    {
     "name": "stderr",
     "output_type": "stream",
     "text": [
      "  0%|          | 5/10752 [25:50<920:38:15, 308.39s/it]"
     ]
    },
    {
     "name": "stdout",
     "output_type": "stream",
     "text": [
      "{'conv2d_1_filters': 32, 'conv2d_1_kernel': 5, 'conv2d_2_filters': 64, 'conv2d_2_kernel': 5, 'conv2d_3_filters': 64, 'conv2d_3_kernel': 5, 'dense_1_units': 512, 'pooling': <class 'keras.src.layers.pooling.max_pooling2d.MaxPooling2D'>, 'batch_normalization': True, 'optimizer': <class 'keras.src.optimizers.adam.Adam'>, 'learning_rate': 0.005}\n",
      "Epoch 1/5\n",
      "1708/1708 [==============================] - 54s 31ms/step - loss: 6.9361 - accuracy: 0.0012 - val_loss: 6.5845 - val_accuracy: 5.1278e-04\n",
      "Epoch 2/5\n",
      "1708/1708 [==============================] - 52s 30ms/step - loss: 6.5814 - accuracy: 0.0013 - val_loss: 6.5864 - val_accuracy: 5.1278e-04\n",
      "Epoch 3/5\n",
      "1708/1708 [==============================] - 52s 30ms/step - loss: 6.5816 - accuracy: 0.0011 - val_loss: 6.5868 - val_accuracy: 5.1278e-04\n",
      "Epoch 4/5\n",
      "1708/1708 [==============================] - 52s 30ms/step - loss: 6.5817 - accuracy: 0.0012 - val_loss: 6.5866 - val_accuracy: 5.1278e-04\n",
      "Epoch 5/5\n",
      "1708/1708 [==============================] - 52s 30ms/step - loss: 6.5818 - accuracy: 0.0011 - val_loss: 6.5869 - val_accuracy: 5.1278e-04\n",
      "366/366 [==============================] - 4s 10ms/step - loss: 6.5871 - accuracy: 7.6844e-04\n"
     ]
    },
    {
     "name": "stderr",
     "output_type": "stream",
     "text": [
      "  0%|          | 6/10752 [30:15<876:37:20, 293.68s/it]"
     ]
    },
    {
     "name": "stdout",
     "output_type": "stream",
     "text": [
      "{'conv2d_1_filters': 16, 'conv2d_1_kernel': 5, 'conv2d_2_filters': 64, 'conv2d_2_kernel': 5, 'conv2d_3_filters': 256, 'conv2d_3_kernel': 3, 'dense_1_units': 512, 'pooling': <class 'keras.src.layers.pooling.average_pooling2d.AveragePooling2D'>, 'batch_normalization': True, 'optimizer': <class 'keras.src.optimizers.adam.Adam'>, 'learning_rate': 0.001}\n",
      "Epoch 1/5\n",
      "1708/1708 [==============================] - 61s 35ms/step - loss: 6.7647 - accuracy: 0.0010 - val_loss: 6.5813 - val_accuracy: 5.1278e-04\n",
      "Epoch 2/5\n",
      "1708/1708 [==============================] - 59s 34ms/step - loss: 6.5763 - accuracy: 0.0015 - val_loss: 6.5791 - val_accuracy: 5.1278e-04\n",
      "Epoch 3/5\n",
      "1708/1708 [==============================] - 58s 34ms/step - loss: 6.6001 - accuracy: 0.0016 - val_loss: 6.5808 - val_accuracy: 5.1278e-04\n",
      "Epoch 4/5\n",
      "1708/1708 [==============================] - 59s 34ms/step - loss: 6.5741 - accuracy: 0.0016 - val_loss: 6.5819 - val_accuracy: 5.1278e-04\n",
      "Epoch 5/5\n",
      "1708/1708 [==============================] - 58s 34ms/step - loss: 6.5740 - accuracy: 0.0017 - val_loss: 6.5828 - val_accuracy: 5.1278e-04\n",
      "366/366 [==============================] - 3s 9ms/step - loss: 6.5831 - accuracy: 7.6844e-04\n"
     ]
    },
    {
     "name": "stderr",
     "output_type": "stream",
     "text": [
      "  0%|          | 7/10752 [35:14<881:51:01, 295.45s/it]"
     ]
    },
    {
     "name": "stdout",
     "output_type": "stream",
     "text": [
      "{'conv2d_1_filters': 16, 'conv2d_1_kernel': 3, 'conv2d_2_filters': 64, 'conv2d_2_kernel': 3, 'conv2d_3_filters': 256, 'conv2d_3_kernel': 3, 'dense_1_units': 1024, 'pooling': <class 'keras.src.layers.pooling.average_pooling2d.AveragePooling2D'>, 'batch_normalization': True, 'optimizer': <class 'keras.src.optimizers.rmsprop.RMSprop'>, 'learning_rate': 0.001}\n",
      "Epoch 1/5\n",
      "1708/1708 [==============================] - 63s 36ms/step - loss: 7.3345 - accuracy: 0.0010 - val_loss: 6.5793 - val_accuracy: 5.1278e-04\n",
      "Epoch 2/5\n",
      "1708/1708 [==============================] - 61s 35ms/step - loss: 6.5796 - accuracy: 0.0013 - val_loss: 6.5842 - val_accuracy: 4.2731e-04\n",
      "Epoch 3/5\n",
      "1708/1708 [==============================] - 60s 35ms/step - loss: 6.5792 - accuracy: 0.0016 - val_loss: 6.5879 - val_accuracy: 5.1278e-04\n",
      "Epoch 4/5\n",
      "1708/1708 [==============================] - 61s 35ms/step - loss: 6.5800 - accuracy: 0.0016 - val_loss: 6.5944 - val_accuracy: 5.1278e-04\n",
      "Epoch 5/5\n",
      "1708/1708 [==============================] - 60s 35ms/step - loss: 6.5790 - accuracy: 0.0016 - val_loss: 6.5930 - val_accuracy: 5.1278e-04\n",
      "366/366 [==============================] - 3s 9ms/step - loss: 6.5929 - accuracy: 6.8306e-04\n"
     ]
    },
    {
     "name": "stderr",
     "output_type": "stream",
     "text": [
      "  0%|          | 8/10752 [40:22<893:59:50, 299.55s/it]"
     ]
    },
    {
     "name": "stdout",
     "output_type": "stream",
     "text": [
      "{'conv2d_1_filters': 16, 'conv2d_1_kernel': 3, 'conv2d_2_filters': 64, 'conv2d_2_kernel': 5, 'conv2d_3_filters': 64, 'conv2d_3_kernel': 3, 'dense_1_units': 1024, 'pooling': <class 'keras.src.layers.pooling.average_pooling2d.AveragePooling2D'>, 'batch_normalization': True, 'optimizer': <class 'keras.src.optimizers.rmsprop.RMSprop'>, 'learning_rate': 0.001}\n",
      "Epoch 1/5\n",
      "1708/1708 [==============================] - 40s 22ms/step - loss: 6.6430 - accuracy: 0.0019 - val_loss: 6.3451 - val_accuracy: 0.0017\n",
      "Epoch 2/5\n",
      "1708/1708 [==============================] - 38s 22ms/step - loss: 6.0616 - accuracy: 0.0132 - val_loss: 5.2059 - val_accuracy: 0.0738\n",
      "Epoch 3/5\n",
      "1708/1708 [==============================] - 38s 22ms/step - loss: 3.4914 - accuracy: 0.3365 - val_loss: 3.0356 - val_accuracy: 0.4569\n",
      "Epoch 4/5\n",
      "1708/1708 [==============================] - 38s 22ms/step - loss: 1.9401 - accuracy: 0.6047 - val_loss: 2.3267 - val_accuracy: 0.5940\n",
      "Epoch 5/5\n",
      "1708/1708 [==============================] - 38s 22ms/step - loss: 1.2378 - accuracy: 0.7266 - val_loss: 2.0888 - val_accuracy: 0.6223\n",
      "366/366 [==============================] - 3s 7ms/step - loss: 2.1441 - accuracy: 0.6119\n"
     ]
    },
    {
     "name": "stderr",
     "output_type": "stream",
     "text": [
      "  0%|          | 9/10752 [43:36<795:04:00, 266.43s/it]"
     ]
    },
    {
     "name": "stdout",
     "output_type": "stream",
     "text": [
      "{'conv2d_1_filters': 16, 'conv2d_1_kernel': 3, 'conv2d_2_filters': 64, 'conv2d_2_kernel': 3, 'conv2d_3_filters': 64, 'conv2d_3_kernel': 5, 'dense_1_units': 256, 'pooling': <class 'keras.src.layers.pooling.max_pooling2d.MaxPooling2D'>, 'batch_normalization': False, 'optimizer': <class 'keras.src.optimizers.rmsprop.RMSprop'>, 'learning_rate': 0.001}\n",
      "Epoch 1/5\n",
      "1708/1708 [==============================] - 31s 18ms/step - loss: 4.9497 - accuracy: 0.1629 - val_loss: 2.8711 - val_accuracy: 0.4518\n",
      "Epoch 2/5\n",
      "1708/1708 [==============================] - 30s 18ms/step - loss: 2.1336 - accuracy: 0.5702 - val_loss: 1.8842 - val_accuracy: 0.6139\n",
      "Epoch 3/5\n",
      "1708/1708 [==============================] - 30s 18ms/step - loss: 1.3801 - accuracy: 0.6972 - val_loss: 1.6758 - val_accuracy: 0.6679\n",
      "Epoch 4/5\n",
      "1708/1708 [==============================] - 30s 18ms/step - loss: 0.9389 - accuracy: 0.7798 - val_loss: 1.6741 - val_accuracy: 0.6869\n",
      "Epoch 5/5\n",
      "1708/1708 [==============================] - 30s 18ms/step - loss: 0.6247 - accuracy: 0.8445 - val_loss: 2.0421 - val_accuracy: 0.6875\n",
      "366/366 [==============================] - 2s 6ms/step - loss: 2.0679 - accuracy: 0.6844\n"
     ]
    },
    {
     "name": "stderr",
     "output_type": "stream",
     "text": [
      "  0%|          | 10/10752 [46:11<692:44:10, 232.16s/it]"
     ]
    },
    {
     "name": "stdout",
     "output_type": "stream",
     "text": [
      "{'conv2d_1_filters': 16, 'conv2d_1_kernel': 5, 'conv2d_2_filters': 64, 'conv2d_2_kernel': 5, 'conv2d_3_filters': 64, 'conv2d_3_kernel': 5, 'dense_1_units': 256, 'pooling': <class 'keras.src.layers.pooling.max_pooling2d.MaxPooling2D'>, 'batch_normalization': False, 'optimizer': <class 'keras.src.optimizers.rmsprop.RMSprop'>, 'learning_rate': 0.005}\n",
      "Epoch 1/5\n",
      "1708/1708 [==============================] - 39s 22ms/step - loss: 6.5945 - accuracy: 0.0013 - val_loss: 6.5989 - val_accuracy: 5.1278e-04\n",
      "Epoch 2/5\n",
      "1708/1708 [==============================] - 38s 22ms/step - loss: 6.5956 - accuracy: 0.0013 - val_loss: 6.6043 - val_accuracy: 5.1278e-04\n",
      "Epoch 3/5\n",
      "1708/1708 [==============================] - 38s 22ms/step - loss: 6.5958 - accuracy: 0.0012 - val_loss: 6.6045 - val_accuracy: 5.1278e-04\n",
      "Epoch 4/5\n",
      "1708/1708 [==============================] - 38s 22ms/step - loss: 6.5966 - accuracy: 0.0015 - val_loss: 6.6048 - val_accuracy: 5.1278e-04\n",
      "Epoch 5/5\n",
      "1708/1708 [==============================] - 38s 22ms/step - loss: 6.5961 - accuracy: 0.0011 - val_loss: 6.6052 - val_accuracy: 5.1278e-04\n",
      "366/366 [==============================] - 3s 7ms/step - loss: 6.6039 - accuracy: 6.8306e-04\n"
     ]
    },
    {
     "name": "stderr",
     "output_type": "stream",
     "text": [
      "  0%|          | 11/10752 [49:24<656:18:24, 219.97s/it]"
     ]
    },
    {
     "name": "stdout",
     "output_type": "stream",
     "text": [
      "{'conv2d_1_filters': 64, 'conv2d_1_kernel': 5, 'conv2d_2_filters': 64, 'conv2d_2_kernel': 3, 'conv2d_3_filters': 256, 'conv2d_3_kernel': 5, 'dense_1_units': 512, 'pooling': <class 'keras.src.layers.pooling.max_pooling2d.MaxPooling2D'>, 'batch_normalization': False, 'optimizer': <class 'keras.src.optimizers.rmsprop.RMSprop'>, 'learning_rate': 0.001}\n",
      "Epoch 1/5\n",
      "1708/1708 [==============================] - 77s 44ms/step - loss: 4.9695 - accuracy: 0.1707 - val_loss: 2.5386 - val_accuracy: 0.4996\n",
      "Epoch 2/5\n",
      "1708/1708 [==============================] - 74s 43ms/step - loss: 1.8978 - accuracy: 0.6101 - val_loss: 1.8499 - val_accuracy: 0.6305\n",
      "Epoch 3/5\n",
      "1708/1708 [==============================] - 76s 45ms/step - loss: 0.9614 - accuracy: 0.7764 - val_loss: 1.7052 - val_accuracy: 0.7111\n",
      "Epoch 4/5\n",
      "1708/1708 [==============================] - 74s 44ms/step - loss: 0.4010 - accuracy: 0.8990 - val_loss: 2.2955 - val_accuracy: 0.7119\n",
      "Epoch 5/5\n",
      "1708/1708 [==============================] - 74s 44ms/step - loss: 0.2080 - accuracy: 0.9483 - val_loss: 2.8005 - val_accuracy: 0.7036\n",
      "366/366 [==============================] - 5s 12ms/step - loss: 2.8228 - accuracy: 0.7017\n"
     ]
    },
    {
     "name": "stderr",
     "output_type": "stream",
     "text": [
      "  0%|          | 12/10752 [55:44<801:47:41, 268.76s/it]"
     ]
    },
    {
     "name": "stdout",
     "output_type": "stream",
     "text": [
      "{'conv2d_1_filters': 16, 'conv2d_1_kernel': 5, 'conv2d_2_filters': 32, 'conv2d_2_kernel': 5, 'conv2d_3_filters': 64, 'conv2d_3_kernel': 3, 'dense_1_units': 512, 'pooling': <class 'keras.src.layers.pooling.max_pooling2d.MaxPooling2D'>, 'batch_normalization': False, 'optimizer': <class 'keras.src.optimizers.adam.Adam'>, 'learning_rate': 0.005}\n",
      "Epoch 1/5\n",
      "1708/1708 [==============================] - 33s 18ms/step - loss: 6.5869 - accuracy: 0.0013 - val_loss: 6.5844 - val_accuracy: 5.1278e-04\n",
      "Epoch 2/5\n",
      "1708/1708 [==============================] - 30s 18ms/step - loss: 6.5814 - accuracy: 0.0012 - val_loss: 6.5865 - val_accuracy: 5.1278e-04\n",
      "Epoch 3/5\n",
      "1708/1708 [==============================] - 30s 18ms/step - loss: 6.5818 - accuracy: 0.0011 - val_loss: 6.5871 - val_accuracy: 5.1278e-04\n",
      "Epoch 4/5\n",
      "1708/1708 [==============================] - 30s 18ms/step - loss: 6.5817 - accuracy: 0.0010 - val_loss: 6.5868 - val_accuracy: 5.1278e-04\n",
      "Epoch 5/5\n",
      "1708/1708 [==============================] - 30s 18ms/step - loss: 6.5817 - accuracy: 0.0011 - val_loss: 6.5868 - val_accuracy: 5.1278e-04\n",
      "366/366 [==============================] - 2s 6ms/step - loss: 6.5872 - accuracy: 6.8306e-04\n"
     ]
    },
    {
     "name": "stderr",
     "output_type": "stream",
     "text": [
      "  0%|          | 13/10752 [58:21<700:22:30, 234.78s/it]"
     ]
    },
    {
     "name": "stdout",
     "output_type": "stream",
     "text": [
      "{'conv2d_1_filters': 32, 'conv2d_1_kernel': 5, 'conv2d_2_filters': 128, 'conv2d_2_kernel': 3, 'conv2d_3_filters': 256, 'conv2d_3_kernel': 5, 'dense_1_units': 1024, 'pooling': <class 'keras.src.layers.pooling.max_pooling2d.MaxPooling2D'>, 'batch_normalization': False, 'optimizer': <class 'keras.src.optimizers.rmsprop.RMSprop'>, 'learning_rate': 0.005}\n",
      "Epoch 1/5\n",
      "1708/1708 [==============================] - 101s 58ms/step - loss: 6.6873 - accuracy: 0.0010 - val_loss: 6.5995 - val_accuracy: 5.1278e-04\n",
      "Epoch 2/5\n",
      "1708/1708 [==============================] - 97s 57ms/step - loss: 6.5957 - accuracy: 0.0011 - val_loss: 6.6039 - val_accuracy: 5.1278e-04\n",
      "Epoch 3/5\n",
      "1708/1708 [==============================] - 96s 56ms/step - loss: 6.5967 - accuracy: 0.0012 - val_loss: 6.6035 - val_accuracy: 5.1278e-04\n",
      "Epoch 4/5\n",
      "1708/1708 [==============================] - 97s 57ms/step - loss: 6.5967 - accuracy: 0.0015 - val_loss: 6.6061 - val_accuracy: 5.1278e-04\n",
      "Epoch 5/5\n",
      "1708/1708 [==============================] - 96s 56ms/step - loss: 6.5972 - accuracy: 9.8845e-04 - val_loss: 6.6036 - val_accuracy: 5.1278e-04\n",
      "366/366 [==============================] - 5s 15ms/step - loss: 6.6062 - accuracy: 6.8306e-04\n"
     ]
    },
    {
     "name": "stderr",
     "output_type": "stream",
     "text": [
      "  0%|          | 14/10752 [1:06:34<932:54:37, 312.77s/it]"
     ]
    },
    {
     "name": "stdout",
     "output_type": "stream",
     "text": [
      "{'conv2d_1_filters': 64, 'conv2d_1_kernel': 3, 'conv2d_2_filters': 128, 'conv2d_2_kernel': 3, 'conv2d_3_filters': 128, 'conv2d_3_kernel': 3, 'dense_1_units': 512, 'pooling': <class 'keras.src.layers.pooling.average_pooling2d.AveragePooling2D'>, 'batch_normalization': True, 'optimizer': <class 'keras.src.optimizers.rmsprop.RMSprop'>, 'learning_rate': 0.005}\n",
      "Epoch 1/5\n",
      "1708/1708 [==============================] - 72s 41ms/step - loss: 8.8264 - accuracy: 0.0012 - val_loss: 6.5992 - val_accuracy: 6.8370e-04\n",
      "Epoch 2/5\n",
      "1708/1708 [==============================] - 68s 40ms/step - loss: 6.5977 - accuracy: 0.0011 - val_loss: 6.6049 - val_accuracy: 5.1278e-04\n",
      "Epoch 3/5\n",
      "1708/1708 [==============================] - 68s 40ms/step - loss: 6.5965 - accuracy: 0.0013 - val_loss: 6.6048 - val_accuracy: 5.1278e-04\n",
      "Epoch 4/5\n",
      "1708/1708 [==============================] - 69s 40ms/step - loss: 6.5964 - accuracy: 0.0013 - val_loss: 6.6041 - val_accuracy: 5.1278e-04\n",
      "Epoch 5/5\n",
      "1708/1708 [==============================] - 68s 40ms/step - loss: 6.5964 - accuracy: 0.0013 - val_loss: 6.6029 - val_accuracy: 5.1278e-04\n",
      "366/366 [==============================] - 5s 12ms/step - loss: 6.6034 - accuracy: 6.8306e-04\n"
     ]
    },
    {
     "name": "stderr",
     "output_type": "stream",
     "text": [
      "  0%|          | 15/10752 [1:12:24<966:21:29, 324.01s/it]"
     ]
    },
    {
     "name": "stdout",
     "output_type": "stream",
     "text": [
      "{'conv2d_1_filters': 32, 'conv2d_1_kernel': 5, 'conv2d_2_filters': 32, 'conv2d_2_kernel': 3, 'conv2d_3_filters': 64, 'conv2d_3_kernel': 3, 'dense_1_units': 1024, 'pooling': <class 'keras.src.layers.pooling.max_pooling2d.MaxPooling2D'>, 'batch_normalization': True, 'optimizer': <class 'keras.src.optimizers.rmsprop.RMSprop'>, 'learning_rate': 0.001}\n",
      "Epoch 1/5\n",
      "1708/1708 [==============================] - 37s 21ms/step - loss: 6.6922 - accuracy: 0.0012 - val_loss: 6.5800 - val_accuracy: 5.1278e-04\n",
      "Epoch 2/5\n",
      "1708/1708 [==============================] - 36s 21ms/step - loss: 6.5770 - accuracy: 0.0014 - val_loss: 6.5844 - val_accuracy: 5.1278e-04\n",
      "Epoch 3/5\n",
      "1708/1708 [==============================] - 36s 21ms/step - loss: 6.5774 - accuracy: 0.0016 - val_loss: 6.5881 - val_accuracy: 5.1278e-04\n",
      "Epoch 4/5\n",
      "1708/1708 [==============================] - 36s 21ms/step - loss: 6.5783 - accuracy: 0.0016 - val_loss: 6.5908 - val_accuracy: 5.1278e-04\n",
      "Epoch 5/5\n",
      "1708/1708 [==============================] - 36s 21ms/step - loss: 6.5800 - accuracy: 0.0016 - val_loss: 6.5921 - val_accuracy: 5.1278e-04\n",
      "366/366 [==============================] - 2s 6ms/step - loss: 6.5923 - accuracy: 7.6844e-04\n"
     ]
    },
    {
     "name": "stderr",
     "output_type": "stream",
     "text": [
      "  0%|          | 16/10752 [1:15:28<840:50:27, 281.95s/it]"
     ]
    },
    {
     "name": "stdout",
     "output_type": "stream",
     "text": [
      "{'conv2d_1_filters': 32, 'conv2d_1_kernel': 5, 'conv2d_2_filters': 32, 'conv2d_2_kernel': 3, 'conv2d_3_filters': 64, 'conv2d_3_kernel': 3, 'dense_1_units': 512, 'pooling': <class 'keras.src.layers.pooling.max_pooling2d.MaxPooling2D'>, 'batch_normalization': False, 'optimizer': <class 'keras.src.optimizers.rmsprop.RMSprop'>, 'learning_rate': 0.005}\n",
      "Epoch 1/5\n",
      "1708/1708 [==============================] - 31s 18ms/step - loss: 6.6587 - accuracy: 0.0012 - val_loss: 6.5996 - val_accuracy: 5.1278e-04\n",
      "Epoch 2/5\n",
      "1708/1708 [==============================] - 30s 18ms/step - loss: 6.5960 - accuracy: 0.0011 - val_loss: 6.6037 - val_accuracy: 5.1278e-04\n",
      "Epoch 3/5\n",
      "1708/1708 [==============================] - 30s 18ms/step - loss: 6.5966 - accuracy: 0.0014 - val_loss: 6.6060 - val_accuracy: 5.1278e-04\n",
      "Epoch 4/5\n",
      "1708/1708 [==============================] - 30s 18ms/step - loss: 6.5968 - accuracy: 0.0013 - val_loss: 6.6052 - val_accuracy: 5.1278e-04\n",
      "Epoch 5/5\n",
      "1708/1708 [==============================] - 31s 18ms/step - loss: 6.5967 - accuracy: 9.1523e-04 - val_loss: 6.6028 - val_accuracy: 5.1278e-04\n",
      "366/366 [==============================] - 2s 6ms/step - loss: 6.6035 - accuracy: 6.8306e-04\n"
     ]
    },
    {
     "name": "stderr",
     "output_type": "stream",
     "text": [
      "  0%|          | 17/10752 [1:18:04<727:29:05, 243.96s/it]"
     ]
    },
    {
     "name": "stdout",
     "output_type": "stream",
     "text": [
      "{'conv2d_1_filters': 32, 'conv2d_1_kernel': 5, 'conv2d_2_filters': 64, 'conv2d_2_kernel': 3, 'conv2d_3_filters': 64, 'conv2d_3_kernel': 5, 'dense_1_units': 1024, 'pooling': <class 'keras.src.layers.pooling.max_pooling2d.MaxPooling2D'>, 'batch_normalization': False, 'optimizer': <class 'keras.src.optimizers.adam.Adam'>, 'learning_rate': 0.005}\n",
      "Epoch 1/5\n",
      "1708/1708 [==============================] - 44s 25ms/step - loss: 6.6030 - accuracy: 0.0012 - val_loss: 6.5842 - val_accuracy: 5.1278e-04\n",
      "Epoch 2/5\n",
      "1708/1708 [==============================] - 43s 25ms/step - loss: 6.5815 - accuracy: 0.0014 - val_loss: 6.5864 - val_accuracy: 5.1278e-04\n",
      "Epoch 3/5\n",
      "1708/1708 [==============================] - 43s 25ms/step - loss: 6.5817 - accuracy: 9.7015e-04 - val_loss: 6.5868 - val_accuracy: 5.1278e-04\n",
      "Epoch 4/5\n",
      "1708/1708 [==============================] - 42s 25ms/step - loss: 6.5817 - accuracy: 0.0011 - val_loss: 6.5867 - val_accuracy: 5.1278e-04\n",
      "Epoch 5/5\n",
      "1708/1708 [==============================] - 43s 25ms/step - loss: 6.5818 - accuracy: 0.0012 - val_loss: 6.5869 - val_accuracy: 5.1278e-04\n",
      "366/366 [==============================] - 3s 8ms/step - loss: 6.5871 - accuracy: 6.8306e-04\n"
     ]
    },
    {
     "name": "stderr",
     "output_type": "stream",
     "text": [
      "  0%|          | 18/10752 [1:21:41<703:39:10, 235.99s/it]"
     ]
    },
    {
     "name": "stdout",
     "output_type": "stream",
     "text": [
      "{'conv2d_1_filters': 16, 'conv2d_1_kernel': 5, 'conv2d_2_filters': 32, 'conv2d_2_kernel': 3, 'conv2d_3_filters': 128, 'conv2d_3_kernel': 5, 'dense_1_units': 1024, 'pooling': <class 'keras.src.layers.pooling.average_pooling2d.AveragePooling2D'>, 'batch_normalization': False, 'optimizer': <class 'keras.src.optimizers.adam.Adam'>, 'learning_rate': 0.005}\n",
      "Epoch 1/5\n",
      "1708/1708 [==============================] - 45s 25ms/step - loss: 6.5939 - accuracy: 0.0011 - val_loss: 6.5841 - val_accuracy: 5.1278e-04\n",
      "Epoch 2/5\n",
      "1708/1708 [==============================] - 43s 25ms/step - loss: 6.5814 - accuracy: 0.0012 - val_loss: 6.5863 - val_accuracy: 5.1278e-04\n",
      "Epoch 3/5\n",
      "1708/1708 [==============================] - 43s 25ms/step - loss: 6.5817 - accuracy: 0.0014 - val_loss: 6.5868 - val_accuracy: 5.1278e-04\n",
      "Epoch 4/5\n",
      "1708/1708 [==============================] - 43s 25ms/step - loss: 6.5817 - accuracy: 0.0012 - val_loss: 6.5869 - val_accuracy: 5.1278e-04\n",
      "Epoch 5/5\n",
      "1708/1708 [==============================] - 43s 25ms/step - loss: 6.5817 - accuracy: 0.0012 - val_loss: 6.5869 - val_accuracy: 5.1278e-04\n",
      "366/366 [==============================] - 3s 7ms/step - loss: 6.5868 - accuracy: 6.8306e-04\n"
     ]
    },
    {
     "name": "stderr",
     "output_type": "stream",
     "text": [
      "  0%|          | 19/10752 [1:25:21<688:55:33, 231.08s/it]"
     ]
    },
    {
     "name": "stdout",
     "output_type": "stream",
     "text": [
      "{'conv2d_1_filters': 16, 'conv2d_1_kernel': 3, 'conv2d_2_filters': 32, 'conv2d_2_kernel': 3, 'conv2d_3_filters': 256, 'conv2d_3_kernel': 3, 'dense_1_units': 512, 'pooling': <class 'keras.src.layers.pooling.max_pooling2d.MaxPooling2D'>, 'batch_normalization': False, 'optimizer': <class 'keras.src.optimizers.adam.Adam'>, 'learning_rate': 0.001}\n",
      "Epoch 1/5\n",
      "1708/1708 [==============================] - 44s 25ms/step - loss: 4.4312 - accuracy: 0.2351 - val_loss: 2.5300 - val_accuracy: 0.5055\n",
      "Epoch 2/5\n",
      "1708/1708 [==============================] - 43s 25ms/step - loss: 1.8148 - accuracy: 0.6187 - val_loss: 1.8519 - val_accuracy: 0.6325\n",
      "Epoch 3/5\n",
      "1708/1708 [==============================] - 43s 25ms/step - loss: 0.9892 - accuracy: 0.7636 - val_loss: 1.9488 - val_accuracy: 0.6652\n",
      "Epoch 4/5\n",
      "1708/1708 [==============================] - 43s 25ms/step - loss: 0.5049 - accuracy: 0.8687 - val_loss: 2.4293 - val_accuracy: 0.6623\n",
      "Epoch 5/5\n",
      "1708/1708 [==============================] - 43s 25ms/step - loss: 0.2797 - accuracy: 0.9247 - val_loss: 2.5983 - val_accuracy: 0.6792\n",
      "366/366 [==============================] - 2s 6ms/step - loss: 2.6647 - accuracy: 0.6765\n"
     ]
    },
    {
     "name": "stderr",
     "output_type": "stream",
     "text": [
      "  0%|          | 20/10752 [1:28:58<676:48:23, 227.03s/it]"
     ]
    },
    {
     "name": "stdout",
     "output_type": "stream",
     "text": [
      "{'conv2d_1_filters': 64, 'conv2d_1_kernel': 3, 'conv2d_2_filters': 128, 'conv2d_2_kernel': 5, 'conv2d_3_filters': 256, 'conv2d_3_kernel': 3, 'dense_1_units': 1024, 'pooling': <class 'keras.src.layers.pooling.max_pooling2d.MaxPooling2D'>, 'batch_normalization': False, 'optimizer': <class 'keras.src.optimizers.adam.Adam'>, 'learning_rate': 0.001}\n",
      "Epoch 1/5\n",
      "1708/1708 [==============================] - 116s 67ms/step - loss: 4.6176 - accuracy: 0.1966 - val_loss: 2.4727 - val_accuracy: 0.4985\n",
      "Epoch 2/5\n",
      "1708/1708 [==============================] - 113s 66ms/step - loss: 1.5923 - accuracy: 0.6496 - val_loss: 1.7095 - val_accuracy: 0.6632\n",
      "Epoch 3/5\n",
      "1708/1708 [==============================] - 113s 66ms/step - loss: 0.6893 - accuracy: 0.8290 - val_loss: 2.0574 - val_accuracy: 0.6820\n",
      "Epoch 4/5\n",
      "1708/1708 [==============================] - 113s 66ms/step - loss: 0.2982 - accuracy: 0.9199 - val_loss: 2.1468 - val_accuracy: 0.6993\n",
      "Epoch 5/5\n",
      "1708/1708 [==============================] - 113s 66ms/step - loss: 0.1825 - accuracy: 0.9502 - val_loss: 2.5524 - val_accuracy: 0.6920\n",
      "366/366 [==============================] - 6s 18ms/step - loss: 2.6291 - accuracy: 0.6870\n"
     ]
    },
    {
     "name": "stderr",
     "output_type": "stream",
     "text": [
      "  0%|          | 21/10752 [1:38:33<987:48:55, 331.39s/it]"
     ]
    },
    {
     "name": "stdout",
     "output_type": "stream",
     "text": [
      "{'conv2d_1_filters': 32, 'conv2d_1_kernel': 3, 'conv2d_2_filters': 128, 'conv2d_2_kernel': 3, 'conv2d_3_filters': 128, 'conv2d_3_kernel': 5, 'dense_1_units': 512, 'pooling': <class 'keras.src.layers.pooling.average_pooling2d.AveragePooling2D'>, 'batch_normalization': False, 'optimizer': <class 'keras.src.optimizers.adam.Adam'>, 'learning_rate': 0.005}\n",
      "Epoch 1/5\n",
      "1708/1708 [==============================] - 62s 35ms/step - loss: 6.5997 - accuracy: 0.0013 - val_loss: 6.5844 - val_accuracy: 5.1278e-04\n",
      "Epoch 2/5\n",
      "1708/1708 [==============================] - 61s 36ms/step - loss: 6.5815 - accuracy: 0.0013 - val_loss: 6.5866 - val_accuracy: 5.1278e-04\n",
      "Epoch 3/5\n",
      "1708/1708 [==============================] - 61s 35ms/step - loss: 6.5817 - accuracy: 0.0011 - val_loss: 6.5868 - val_accuracy: 5.1278e-04\n",
      "Epoch 4/5\n",
      "1708/1708 [==============================] - 61s 35ms/step - loss: 6.5816 - accuracy: 0.0012 - val_loss: 6.5867 - val_accuracy: 5.1278e-04\n",
      "Epoch 5/5\n",
      "1708/1708 [==============================] - 60s 35ms/step - loss: 6.5818 - accuracy: 0.0011 - val_loss: 6.5869 - val_accuracy: 5.1278e-04\n",
      "366/366 [==============================] - 4s 10ms/step - loss: 6.5869 - accuracy: 7.6844e-04\n"
     ]
    },
    {
     "name": "stderr",
     "output_type": "stream",
     "text": [
      "  0%|          | 22/10752 [1:43:41<966:35:01, 324.30s/it]"
     ]
    },
    {
     "name": "stdout",
     "output_type": "stream",
     "text": [
      "{'conv2d_1_filters': 32, 'conv2d_1_kernel': 3, 'conv2d_2_filters': 64, 'conv2d_2_kernel': 3, 'conv2d_3_filters': 128, 'conv2d_3_kernel': 3, 'dense_1_units': 512, 'pooling': <class 'keras.src.layers.pooling.max_pooling2d.MaxPooling2D'>, 'batch_normalization': False, 'optimizer': <class 'keras.src.optimizers.rmsprop.RMSprop'>, 'learning_rate': 0.005}\n",
      "Epoch 1/5\n",
      "1708/1708 [==============================] - 42s 24ms/step - loss: 6.6334 - accuracy: 0.0011 - val_loss: 6.5977 - val_accuracy: 0.0011\n",
      "Epoch 2/5\n",
      "1708/1708 [==============================] - 41s 24ms/step - loss: 6.5959 - accuracy: 0.0012 - val_loss: 6.6066 - val_accuracy: 5.1278e-04\n",
      "Epoch 3/5\n",
      "1708/1708 [==============================] - 41s 24ms/step - loss: 6.5968 - accuracy: 0.0010 - val_loss: 6.6041 - val_accuracy: 6.8370e-04\n",
      "Epoch 4/5\n",
      "1708/1708 [==============================] - 41s 24ms/step - loss: 6.5967 - accuracy: 0.0010 - val_loss: 6.6060 - val_accuracy: 5.1278e-04\n",
      "Epoch 5/5\n",
      "1708/1708 [==============================] - 41s 24ms/step - loss: 6.5966 - accuracy: 0.0012 - val_loss: 6.6064 - val_accuracy: 5.1278e-04\n",
      "366/366 [==============================] - 3s 7ms/step - loss: 6.6056 - accuracy: 6.8306e-04\n"
     ]
    },
    {
     "name": "stderr",
     "output_type": "stream",
     "text": [
      "  0%|          | 23/10752 [1:47:49<898:05:23, 301.34s/it]"
     ]
    },
    {
     "name": "stdout",
     "output_type": "stream",
     "text": [
      "{'conv2d_1_filters': 64, 'conv2d_1_kernel': 3, 'conv2d_2_filters': 128, 'conv2d_2_kernel': 5, 'conv2d_3_filters': 128, 'conv2d_3_kernel': 3, 'dense_1_units': 1024, 'pooling': <class 'keras.src.layers.pooling.max_pooling2d.MaxPooling2D'>, 'batch_normalization': False, 'optimizer': <class 'keras.src.optimizers.adam.Adam'>, 'learning_rate': 0.001}\n",
      "Epoch 1/5\n",
      "1708/1708 [==============================] - 90s 52ms/step - loss: 4.2128 - accuracy: 0.2620 - val_loss: 2.2217 - val_accuracy: 0.5486\n",
      "Epoch 2/5\n",
      "1708/1708 [==============================] - 89s 52ms/step - loss: 1.3379 - accuracy: 0.6987 - val_loss: 1.6752 - val_accuracy: 0.6773\n",
      "Epoch 3/5\n",
      "1708/1708 [==============================] - 89s 52ms/step - loss: 0.5108 - accuracy: 0.8708 - val_loss: 2.1396 - val_accuracy: 0.6915\n",
      "Epoch 4/5\n",
      "1708/1708 [==============================] - 89s 52ms/step - loss: 0.2358 - accuracy: 0.9379 - val_loss: 2.3372 - val_accuracy: 0.6948\n",
      "Epoch 5/5\n",
      "1708/1708 [==============================] - 89s 52ms/step - loss: 0.1602 - accuracy: 0.9572 - val_loss: 2.7267 - val_accuracy: 0.6870\n",
      "366/366 [==============================] - 5s 15ms/step - loss: 2.7592 - accuracy: 0.6862\n"
     ]
    },
    {
     "name": "stderr",
     "output_type": "stream",
     "text": [
      "  0%|          | 24/10752 [1:55:20<1032:03:32, 346.33s/it]"
     ]
    },
    {
     "name": "stdout",
     "output_type": "stream",
     "text": [
      "{'conv2d_1_filters': 32, 'conv2d_1_kernel': 5, 'conv2d_2_filters': 128, 'conv2d_2_kernel': 5, 'conv2d_3_filters': 256, 'conv2d_3_kernel': 5, 'dense_1_units': 512, 'pooling': <class 'keras.src.layers.pooling.average_pooling2d.AveragePooling2D'>, 'batch_normalization': True, 'optimizer': <class 'keras.src.optimizers.rmsprop.RMSprop'>, 'learning_rate': 0.005}\n",
      "Epoch 1/5\n",
      "1708/1708 [==============================] - 99s 57ms/step - loss: 11.3905 - accuracy: 0.0013 - val_loss: 6.6001 - val_accuracy: 5.1278e-04\n",
      "Epoch 2/5\n",
      "1385/1708 [=======================>......] - ETA: 17s - loss: 6.5995 - accuracy: 0.0014"
     ]
    }
   ],
   "source": [
    "run_hps_search(train_ds, val_ds, test_ds, RESULTS_PATH)"
   ]
  },
  {
   "cell_type": "code",
   "execution_count": null,
   "metadata": {},
   "outputs": [],
   "source": [
    "# import matplotlib.pyplot as plt\n",
    "\n",
    "# plt.figure(figsize=(10, 10))\n",
    "# for images, labels in train_ds.take(1):\n",
    "#   for i in range(9):\n",
    "#     ax = plt.subplot(3, 3, i + 1)\n",
    "#     plt.imshow(images[i].numpy().astype(\"uint8\"))\n",
    "#     plt.axis(\"off\")"
   ]
  }
 ],
 "metadata": {
  "kernelspec": {
   "display_name": "env",
   "language": "python",
   "name": "python3"
  },
  "language_info": {
   "codemirror_mode": {
    "name": "ipython",
    "version": 3
   },
   "file_extension": ".py",
   "mimetype": "text/x-python",
   "name": "python",
   "nbconvert_exporter": "python",
   "pygments_lexer": "ipython3",
   "version": "3.10.12"
  },
  "orig_nbformat": 4
 },
 "nbformat": 4,
 "nbformat_minor": 2
}
